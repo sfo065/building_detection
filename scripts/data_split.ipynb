{
 "cells": [
  {
   "cell_type": "code",
   "execution_count": 1,
   "metadata": {},
   "outputs": [],
   "source": [
    "import os\n",
    "import random"
   ]
  },
  {
   "cell_type": "code",
   "execution_count": 2,
   "metadata": {},
   "outputs": [],
   "source": [
    "ids = list()\n",
    "with open (r'test_output/all_list.txt', 'r') as  file:\n",
    "    for line in file.readlines():\n",
    "        ids.append(line[:])\n"
   ]
  },
  {
   "cell_type": "code",
   "execution_count": 8,
   "metadata": {},
   "outputs": [],
   "source": [
    "ids = list()\n",
    "with open (r'test_output/all_list.txt', 'r') as  file:\n",
    "    for line in file.readlines():\n",
    "        ids.append(line[:-1])\n",
    "random.shuffle(ids)\n",
    "n = len(ids)\n",
    "ntrain, ntest= int(0.8*n), int(0.15*n)\n",
    "train, test, val = ids[:ntrain], ids[ntrain:ntrain+ntest], ids[ntest+ntrain:]"
   ]
  },
  {
   "cell_type": "code",
   "execution_count": 22,
   "metadata": {},
   "outputs": [],
   "source": [
    "with open('test_output/train_list.txt', 'w') as file:\n",
    "    for id in train:\n",
    "        file.write(id+'\\n')\n",
    "\n",
    "with open('test_output/test_list.txt', 'w') as file:\n",
    "    for id in test:\n",
    "        file.write(id+'\\n')\n",
    "\n",
    "with open('test_output/val_list.txt', 'w') as file:\n",
    "    for id in val:\n",
    "        file.write(id+'\\n')\n",
    "        "
   ]
  },
  {
   "cell_type": "code",
   "execution_count": 7,
   "metadata": {},
   "outputs": [
    {
     "data": {
      "text/plain": [
       "1635"
      ]
     },
     "execution_count": 7,
     "metadata": {},
     "output_type": "execute_result"
    }
   ],
   "source": [
    "\n",
    "ntrain +  ntest + ( n-ntrain-ntest)"
   ]
  },
  {
   "cell_type": "code",
   "execution_count": 9,
   "metadata": {},
   "outputs": [
    {
     "data": {
      "text/plain": [
       "(1308, 245, 82)"
      ]
     },
     "execution_count": 9,
     "metadata": {},
     "output_type": "execute_result"
    }
   ],
   "source": [
    "len(train), len(test) , len(val)"
   ]
  },
  {
   "cell_type": "code",
   "execution_count": null,
   "metadata": {},
   "outputs": [],
   "source": []
  }
 ],
 "metadata": {
  "kernelspec": {
   "display_name": "base",
   "language": "python",
   "name": "python3"
  },
  "language_info": {
   "codemirror_mode": {
    "name": "ipython",
    "version": 3
   },
   "file_extension": ".py",
   "mimetype": "text/x-python",
   "name": "python",
   "nbconvert_exporter": "python",
   "pygments_lexer": "ipython3",
   "version": "3.11.5"
  }
 },
 "nbformat": 4,
 "nbformat_minor": 2
}
