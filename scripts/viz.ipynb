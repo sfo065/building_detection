{
 "cells": [
  {
   "cell_type": "code",
   "execution_count": 3,
   "metadata": {},
   "outputs": [
    {
     "data": {
      "text/plain": [
       "'c:\\\\Users\\\\sigbj\\\\Documents\\\\Master\\\\Code\\\\testing'"
      ]
     },
     "execution_count": 3,
     "metadata": {},
     "output_type": "execute_result"
    }
   ],
   "source": [
    "import json\n",
    "from cv2 import resize\n",
    "import numpy as np, matplotlib.pyplot as plt\n",
    "from shapely.geometry import Point\n",
    "from shapely.geometry.polygon import Polygon\n",
    "from shapely import geometry\n",
    "import pickle\n",
    "from house import House\n",
    "import PIL\n",
    "import os\n",
    "PIL.Image.MAX_IMAGE_PIXELS = None\n",
    "os.getcwd()"
   ]
  },
  {
   "cell_type": "code",
   "execution_count": 28,
   "metadata": {},
   "outputs": [],
   "source": [
    "def viz(house, im, ax):\n",
    "    ax.imshow(im)\n",
    "    for corner, edges in house.items():\n",
    "        for edge in edges:\n",
    "            ax.plot([corner[0], edge[0]], [corner[1], edge[1]], c='darkorange', zorder=0, linewidth=2)\n",
    "        ax.scatter(*corner, c='red', s=7, zorder=1)"
   ]
  },
  {
   "cell_type": "code",
   "execution_count": 97,
   "metadata": {},
   "outputs": [],
   "source": [
    "infile = open('ims/geojson2.json')\n",
    "labels = json.load(infile)['features']\n",
    "\n",
    "houses = list()\n",
    "for label in labels:\n",
    "    keys = list(label['nodes'].keys()) \n",
    "    house = np.empty((3, len(keys)))\n",
    "    edges = list()\n",
    "    for i, item in enumerate(keys):\n",
    "        edges.append(np.swapaxes(np.array(label['nodes'][item]), 0, 1))\n",
    "        house[:, i] = np.array(item.split(','), dtype='float')\n",
    "    houses.append(House(house, edges, label['building_id']))"
   ]
  },
  {
   "cell_type": "code",
   "execution_count": 104,
   "metadata": {},
   "outputs": [
    {
     "name": "stdout",
     "output_type": "stream",
     "text": [
      "6843\n"
     ]
    }
   ],
   "source": [
    "counter = 0\n",
    "for house in houses:\n",
    "    if house.utm_coords.shape[-1] < 10:\n",
    "        counter +=1\n",
    "print(counter)\n"
   ]
  },
  {
   "cell_type": "code",
   "execution_count": null,
   "metadata": {},
   "outputs": [],
   "source": []
  }
 ],
 "metadata": {
  "kernelspec": {
   "display_name": "base",
   "language": "python",
   "name": "python3"
  },
  "language_info": {
   "codemirror_mode": {
    "name": "ipython",
    "version": 3
   },
   "file_extension": ".py",
   "mimetype": "text/x-python",
   "name": "python",
   "nbconvert_exporter": "python",
   "pygments_lexer": "ipython3",
   "version": "3.11.5"
  }
 },
 "nbformat": 4,
 "nbformat_minor": 2
}
